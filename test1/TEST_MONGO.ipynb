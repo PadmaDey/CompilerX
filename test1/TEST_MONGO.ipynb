{
 "cells": [
  {
   "cell_type": "code",
   "execution_count": null,
   "metadata": {},
   "outputs": [],
   "source": [
    "import os\n",
    "from bson import ObjectId\n",
    "from pymongo import MongoClient\n",
    "from database_connect.databases.mongodb import MongoIO as mongo\n"
   ]
  },
  {
   "cell_type": "code",
   "execution_count": null,
   "metadata": {},
   "outputs": [
    {
     "name": "stdout",
     "output_type": "stream",
     "text": [
      "Connected to MongoDB successfully!\n"
     ]
    }
   ],
   "source": [
    "try:\n",
    "    client = MongoClient('')\n",
    "    client.admin.command('ping')\n",
    "    print(\"Connected to MongoDB successfully!\")\n",
    "\n",
    "except Exception as e:\n",
    "    print(f\"Failed to connect to MongoDB: {e}\")\n"
   ]
  },
  {
   "cell_type": "code",
   "execution_count": null,
   "metadata": {},
   "outputs": [],
   "source": [
    "def upload_files_to_mongodb(\n",
    "                            mongo_client_con_string,\n",
    "                            database_name,\n",
    "                            datasets_dir_name):\n",
    "  \n",
    "  for file in os.listdir(datasets_dir_name):\n",
    "    if file.endswith('.csv'):\n",
    "      file_name = file.split('.')[0]\n",
    "      mongo_connection = mongo(\n",
    "          client_url = mongo_client_con_string,\n",
    "          database_name= database_name,\n",
    "          collection_name= file_name\n",
    "      )\n",
    "      file_path = os.path.join(datasets_dir_name, file)\n",
    "      print(file_path)\n",
    "      mongo_connection.bulk_insert(file_path)\n",
    "      print(f\"{file_name} is uploaded to mongodb\")\n"
   ]
  },
  {
   "cell_type": "code",
   "execution_count": null,
   "metadata": {},
   "outputs": [
    {
     "name": "stdout",
     "output_type": "stream",
     "text": [
      "D:/CompilerX/test1/data\\compilerx_industry.csv\n"
     ]
    },
    {
     "ename": "TypeError",
     "evalue": "'MongoClient' object is not iterable",
     "output_type": "error",
     "traceback": [
      "\u001b[1;31m---------------------------------------------------------------------------\u001b[0m",
      "\u001b[1;31mTypeError\u001b[0m                                 Traceback (most recent call last)",
      "Cell \u001b[1;32mIn[17], line 1\u001b[0m\n\u001b[1;32m----> 1\u001b[0m upload_files_to_mongodb(\n\u001b[0;32m      2\u001b[0m     mongo_client_con_string\u001b[38;5;241m=\u001b[39m client,\n\u001b[0;32m      3\u001b[0m     database_name \u001b[38;5;241m=\u001b[39m \u001b[38;5;124m'\u001b[39m\u001b[38;5;124mtest\u001b[39m\u001b[38;5;124m'\u001b[39m,\n\u001b[0;32m      4\u001b[0m     datasets_dir_name\u001b[38;5;241m=\u001b[39m \u001b[38;5;124mr\u001b[39m\u001b[38;5;124m\"\u001b[39m\u001b[38;5;124mD:/CompilerX/test1/data\u001b[39m\u001b[38;5;124m\"\u001b[39m)\n",
      "Cell \u001b[1;32mIn[16], line 16\u001b[0m, in \u001b[0;36mupload_files_to_mongodb\u001b[1;34m(mongo_client_con_string, database_name, datasets_dir_name)\u001b[0m\n\u001b[0;32m     14\u001b[0m file_path \u001b[38;5;241m=\u001b[39m os\u001b[38;5;241m.\u001b[39mpath\u001b[38;5;241m.\u001b[39mjoin(datasets_dir_name, file)\n\u001b[0;32m     15\u001b[0m \u001b[38;5;28mprint\u001b[39m(file_path)\n\u001b[1;32m---> 16\u001b[0m mongo_connection\u001b[38;5;241m.\u001b[39mbulk_insert(file_path)\n\u001b[0;32m     17\u001b[0m \u001b[38;5;28mprint\u001b[39m(\u001b[38;5;124mf\u001b[39m\u001b[38;5;124m\"\u001b[39m\u001b[38;5;132;01m{\u001b[39;00mfile_name\u001b[38;5;132;01m}\u001b[39;00m\u001b[38;5;124m is uploaded to mongodb\u001b[39m\u001b[38;5;124m\"\u001b[39m)\n",
      "File \u001b[1;32mc:\\Users\\Padma Dey\\anaconda3\\Lib\\site-packages\\ensure\\main.py:835\u001b[0m, in \u001b[0;36mWrappedFunction.__call__\u001b[1;34m(self, *args, **kwargs)\u001b[0m\n\u001b[0;32m    832\u001b[0m         msg \u001b[38;5;241m=\u001b[39m \u001b[38;5;124m\"\u001b[39m\u001b[38;5;124mArgument \u001b[39m\u001b[38;5;132;01m{arg}\u001b[39;00m\u001b[38;5;124m of type \u001b[39m\u001b[38;5;132;01m{valt}\u001b[39;00m\u001b[38;5;124m to \u001b[39m\u001b[38;5;132;01m{f}\u001b[39;00m\u001b[38;5;124m \u001b[39m\u001b[38;5;124m\"\u001b[39m \u001b[38;5;124m\"\u001b[39m\u001b[38;5;124mdoes not match annotation type \u001b[39m\u001b[38;5;132;01m{t}\u001b[39;00m\u001b[38;5;124m\"\u001b[39m\n\u001b[0;32m    833\u001b[0m         \u001b[38;5;28;01mraise\u001b[39;00m EnsureError(msg\u001b[38;5;241m.\u001b[39mformat(arg\u001b[38;5;241m=\u001b[39marg, f\u001b[38;5;241m=\u001b[39m\u001b[38;5;28mself\u001b[39m\u001b[38;5;241m.\u001b[39mf, t\u001b[38;5;241m=\u001b[39mtempl, valt\u001b[38;5;241m=\u001b[39m\u001b[38;5;28mtype\u001b[39m(value)))\n\u001b[1;32m--> 835\u001b[0m \u001b[38;5;28;01mreturn\u001b[39;00m \u001b[38;5;28mself\u001b[39m\u001b[38;5;241m.\u001b[39mf(\u001b[38;5;241m*\u001b[39margs, \u001b[38;5;241m*\u001b[39m\u001b[38;5;241m*\u001b[39mkwargs)\n",
      "File \u001b[1;32mc:\\Users\\Padma Dey\\anaconda3\\Lib\\site-packages\\database_connect\\databases\\mongodb.py:160\u001b[0m, in \u001b[0;36mMongoIO.bulk_insert\u001b[1;34m(self, dataframe, collection_name, **kwargs)\u001b[0m\n\u001b[0;32m    155\u001b[0m         dataframe \u001b[38;5;241m=\u001b[39m pd\u001b[38;5;241m.\u001b[39mread_excel(path, encoding \u001b[38;5;241m=\u001b[39m \u001b[38;5;124m'\u001b[39m\u001b[38;5;124mutf8\u001b[39m\u001b[38;5;124m'\u001b[39m, \u001b[38;5;241m*\u001b[39m\u001b[38;5;241m*\u001b[39mkwargs)\n\u001b[0;32m    159\u001b[0m data_json \u001b[38;5;241m=\u001b[39m json\u001b[38;5;241m.\u001b[39mloads(dataframe\u001b[38;5;241m.\u001b[39mto_json(orient\u001b[38;5;241m=\u001b[39m\u001b[38;5;124m'\u001b[39m\u001b[38;5;124mrecords\u001b[39m\u001b[38;5;124m'\u001b[39m))\n\u001b[1;32m--> 160\u001b[0m \u001b[38;5;28mself\u001b[39m\u001b[38;5;241m.\u001b[39m__connect_collection\u001b[38;5;241m.\u001b[39minsert_many(data_json)\n",
      "File \u001b[1;32mc:\\Users\\Padma Dey\\anaconda3\\Lib\\site-packages\\database_connect\\databases\\mongodb.py:74\u001b[0m, in \u001b[0;36mMongoIO.__connect_collection\u001b[1;34m(self)\u001b[0m\n\u001b[0;32m     68\u001b[0m \u001b[38;5;250m\u001b[39m\u001b[38;5;124;03m\"\"\"for connenting the collection instance\u001b[39;00m\n\u001b[0;32m     69\u001b[0m \n\u001b[0;32m     70\u001b[0m \u001b[38;5;124;03mReturns:\u001b[39;00m\n\u001b[0;32m     71\u001b[0m \u001b[38;5;124;03m    collection : collection instance of mongodb\u001b[39;00m\n\u001b[0;32m     72\u001b[0m \u001b[38;5;124;03m\"\"\"\u001b[39;00m\n\u001b[0;32m     73\u001b[0m \u001b[38;5;28;01mif\u001b[39;00m MongoIO\u001b[38;5;241m.\u001b[39m__collection \u001b[38;5;241m==\u001b[39m \u001b[38;5;28;01mNone\u001b[39;00m:\n\u001b[1;32m---> 74\u001b[0m     \u001b[38;5;28mself\u001b[39m\u001b[38;5;241m.\u001b[39mcollection \u001b[38;5;241m=\u001b[39m \u001b[38;5;28mself\u001b[39m\u001b[38;5;241m.\u001b[39m__connect_database[\u001b[38;5;28mself\u001b[39m\u001b[38;5;241m.\u001b[39mcollection_name]\n\u001b[0;32m     76\u001b[0m \u001b[38;5;28;01mreturn\u001b[39;00m \u001b[38;5;28mself\u001b[39m\u001b[38;5;241m.\u001b[39mcollection\n",
      "File \u001b[1;32mc:\\Users\\Padma Dey\\anaconda3\\Lib\\site-packages\\database_connect\\databases\\mongodb.py:50\u001b[0m, in \u001b[0;36mMongoIO.__connect_database\u001b[1;34m(self)\u001b[0m\n\u001b[0;32m     44\u001b[0m \u001b[38;5;250m\u001b[39m\u001b[38;5;124;03m\"\"\"for connenting the database\u001b[39;00m\n\u001b[0;32m     45\u001b[0m \n\u001b[0;32m     46\u001b[0m \u001b[38;5;124;03mReturns:\u001b[39;00m\n\u001b[0;32m     47\u001b[0m \u001b[38;5;124;03m    database: database object of mongodb\u001b[39;00m\n\u001b[0;32m     48\u001b[0m \u001b[38;5;124;03m\"\"\"\u001b[39;00m\n\u001b[0;32m     49\u001b[0m \u001b[38;5;28;01mif\u001b[39;00m MongoIO\u001b[38;5;241m.\u001b[39m__database \u001b[38;5;241m==\u001b[39m \u001b[38;5;28;01mNone\u001b[39;00m:\n\u001b[1;32m---> 50\u001b[0m     \u001b[38;5;28mself\u001b[39m\u001b[38;5;241m.\u001b[39mdatabase \u001b[38;5;241m=\u001b[39m \u001b[38;5;28mself\u001b[39m\u001b[38;5;241m.\u001b[39m__create_mongo_client[\u001b[38;5;28mself\u001b[39m\u001b[38;5;241m.\u001b[39mdatabase_name]\n\u001b[0;32m     51\u001b[0m \u001b[38;5;28;01mreturn\u001b[39;00m \u001b[38;5;28mself\u001b[39m\u001b[38;5;241m.\u001b[39mdatabase\n",
      "File \u001b[1;32mc:\\Users\\Padma Dey\\anaconda3\\Lib\\site-packages\\database_connect\\databases\\mongodb.py:36\u001b[0m, in \u001b[0;36mMongoIO.__create_mongo_client\u001b[1;34m(self)\u001b[0m\n\u001b[0;32m     29\u001b[0m \u001b[38;5;129m@property\u001b[39m\n\u001b[0;32m     30\u001b[0m \u001b[38;5;28;01mdef\u001b[39;00m \u001b[38;5;21m__create_mongo_client\u001b[39m(\u001b[38;5;28mself\u001b[39m):\n\u001b[0;32m     31\u001b[0m \u001b[38;5;250m    \u001b[39m\u001b[38;5;124;03m\"\"\"to create a MongoClient instance\u001b[39;00m\n\u001b[0;32m     32\u001b[0m \n\u001b[0;32m     33\u001b[0m \u001b[38;5;124;03m    Returns:\u001b[39;00m\n\u001b[0;32m     34\u001b[0m \u001b[38;5;124;03m        client: mongodb client instance\u001b[39;00m\n\u001b[0;32m     35\u001b[0m \u001b[38;5;124;03m    \"\"\"\u001b[39;00m\n\u001b[1;32m---> 36\u001b[0m     client \u001b[38;5;241m=\u001b[39m pymongo\u001b[38;5;241m.\u001b[39mMongoClient(\u001b[38;5;28mself\u001b[39m\u001b[38;5;241m.\u001b[39mclient_url)\n\u001b[0;32m     37\u001b[0m     \u001b[38;5;28;01mreturn\u001b[39;00m client\n",
      "File \u001b[1;32mc:\\Users\\Padma Dey\\anaconda3\\Lib\\site-packages\\pymongo\\mongo_client.py:758\u001b[0m, in \u001b[0;36mMongoClient.__init__\u001b[1;34m(self, host, port, document_class, tz_aware, connect, type_registry, **kwargs)\u001b[0m\n\u001b[0;32m    756\u001b[0m srv_service_name \u001b[38;5;241m=\u001b[39m keyword_opts\u001b[38;5;241m.\u001b[39mget(\u001b[38;5;124m\"\u001b[39m\u001b[38;5;124msrvservicename\u001b[39m\u001b[38;5;124m\"\u001b[39m)\n\u001b[0;32m    757\u001b[0m srv_max_hosts \u001b[38;5;241m=\u001b[39m keyword_opts\u001b[38;5;241m.\u001b[39mget(\u001b[38;5;124m\"\u001b[39m\u001b[38;5;124msrvmaxhosts\u001b[39m\u001b[38;5;124m\"\u001b[39m)\n\u001b[1;32m--> 758\u001b[0m \u001b[38;5;28;01mif\u001b[39;00m \u001b[38;5;28mlen\u001b[39m([h \u001b[38;5;28;01mfor\u001b[39;00m h \u001b[38;5;129;01min\u001b[39;00m host \u001b[38;5;28;01mif\u001b[39;00m \u001b[38;5;124m\"\u001b[39m\u001b[38;5;124m/\u001b[39m\u001b[38;5;124m\"\u001b[39m \u001b[38;5;129;01min\u001b[39;00m h]) \u001b[38;5;241m>\u001b[39m \u001b[38;5;241m1\u001b[39m:\n\u001b[0;32m    759\u001b[0m     \u001b[38;5;28;01mraise\u001b[39;00m ConfigurationError(\u001b[38;5;124m\"\u001b[39m\u001b[38;5;124mhost must not contain multiple MongoDB URIs\u001b[39m\u001b[38;5;124m\"\u001b[39m)\n\u001b[0;32m    760\u001b[0m \u001b[38;5;28;01mfor\u001b[39;00m entity \u001b[38;5;129;01min\u001b[39;00m host:\n\u001b[0;32m    761\u001b[0m     \u001b[38;5;66;03m# A hostname can only include a-z, 0-9, '-' and '.'. If we find a '/'\u001b[39;00m\n\u001b[0;32m    762\u001b[0m     \u001b[38;5;66;03m# it must be a URI,\u001b[39;00m\n\u001b[0;32m    763\u001b[0m     \u001b[38;5;66;03m# https://en.wikipedia.org/wiki/Hostname#Restrictions_on_valid_host_names\u001b[39;00m\n",
      "\u001b[1;31mTypeError\u001b[0m: 'MongoClient' object is not iterable"
     ]
    }
   ],
   "source": [
    "upload_files_to_mongodb(\n",
    "    mongo_client_con_string= client,\n",
    "    database_name = 'test',\n",
    "    datasets_dir_name= r\"D:/CompilerX/test1/data\")\n"
   ]
  },
  {
   "cell_type": "code",
   "execution_count": null,
   "metadata": {},
   "outputs": [],
   "source": [
    "from pymongo import MongoClient\n",
    "import pandas as pd\n",
    "client = MongoClient(\"\", serverSelectionTimeoutMS=5000)\n",
    "mydb = client['aqi']\n",
    "collection = mydb['city_day']\n",
    "cursor = collection.find({})\n",
    "data = list(cursor)\n",
    "cursor.close()\n",
    "df = pd.DataFrame(data)\n",
    "df.head()\n"
   ]
  }
 ],
 "metadata": {
  "kernelspec": {
   "display_name": "base",
   "language": "python",
   "name": "python3"
  },
  "language_info": {
   "codemirror_mode": {
    "name": "ipython",
    "version": 3
   },
   "file_extension": ".py",
   "mimetype": "text/x-python",
   "name": "python",
   "nbconvert_exporter": "python",
   "pygments_lexer": "ipython3",
   "version": "3.11.7"
  }
 },
 "nbformat": 4,
 "nbformat_minor": 2
}
